{
    "cells": [
        {
            "metadata": {},
            "cell_type": "markdown",
            "source": "<center>\n    <img src=\"https://gitlab.com/ibm/skills-network/courses/placeholder101/-/raw/master/labs/module%201/images/IDSNlogo.png\"  width=\"300\" alt=\"cognitiveclass.ai logo\"  />\n</center>\n\n<h1 align=center><font size = 5>Assignment: SQL Notebook for Peer Assignment</font></h1>\n\nEstimated time needed: **60** minutes.\n\n## Introduction\n\nUsing this Python notebook you will:\n\n1.  Understand the Spacex DataSet\n2.  Load the dataset  into the corresponding table in a Db2 database\n3.  Execute SQL queries to answer assignment questions\n"
        },
        {
            "metadata": {},
            "cell_type": "markdown",
            "source": "## Overview of the DataSet\n\nSpaceX has gained worldwide attention for a series of historic milestones.\n\nIt is the only private company ever to return a spacecraft from low-earth orbit, which it first accomplished in December 2010.\nSpaceX advertises Falcon 9 rocket launches on its website with a cost of 62 million dollars wheras other providers cost upward of 165 million dollars each, much of the savings is because Space X can reuse the first stage.\n\nTherefore if we can determine if the first stage will land, we can determine the cost of a launch.\n\nThis information can be used if an alternate company wants to bid against SpaceX for a rocket launch.\n\nThis dataset includes a record for each payload carried during a SpaceX mission into outer space.\n"
        },
        {
            "metadata": {},
            "cell_type": "markdown",
            "source": "### Download the datasets\n\nThis assignment requires you to load the spacex dataset.\n\nIn many cases the dataset to be analyzed is available as a .CSV (comma separated values) file, perhaps on the internet. Click on the link below to download and save the dataset (.CSV file):\n\n<a href=\"https://cf-courses-data.s3.us.cloud-object-storage.appdomain.cloud/IBM-DS0321EN-SkillsNetwork/labs/module_2/data/Spacex.csv?utm_medium=Exinfluencer&utm_source=Exinfluencer&utm_content=000026UJ&utm_term=10006555&utm_id=NA-SkillsNetwork-Channel-SkillsNetworkCoursesIBMDS0321ENSkillsNetwork26802033-2021-01-01\" target=\"_blank\">Spacex DataSet</a>\n"
        },
        {
            "metadata": {},
            "cell_type": "markdown",
            "source": "### Store the dataset in database table\n\n**it is highly recommended to manually load the table using the database console LOAD tool in DB2**.\n\n<img src = \"https://cf-courses-data.s3.us.cloud-object-storage.appdomain.cloud/IBM-DS0321EN-SkillsNetwork/labs/module_2/images/spacexload.png\">\n\nNow open the Db2 console, open the LOAD tool, Select / Drag the .CSV file for the  dataset, Next create a New Table, and then follow the steps on-screen instructions to load the data. Name the new table as follows:\n\n**SPACEXDATASET**\n\n**Follow these steps while using old DB2 UI which is having Open Console Screen**\n\n**Note:While loading Spacex dataset, ensure that detect datatypes is disabled. Later click on the pencil icon(edit option).**\n\n1.  Change the Date Format by manually typing DD-MM-YYYY and timestamp format as DD-MM-YYYY HH\\:MM:SS\n\n2.  Change the PAYLOAD_MASS\\_\\_KG\\_  datatype  to INTEGER.\n\n<img src = \"https://cf-courses-data.s3.us.cloud-object-storage.appdomain.cloud/IBM-DS0321EN-SkillsNetwork/labs/module_2/images/spacexload2.png\">\n"
        },
        {
            "metadata": {},
            "cell_type": "markdown",
            "source": "**Changes to be considered when having DB2 instance with the new UI having Go to UI screen**\n\n*   Refer to this insruction in this <a href=\"https://cf-courses-data.s3.us.cloud-object-storage.appdomain.cloud/IBMDeveloperSkillsNetwork-DB0201EN-SkillsNetwork/labs/Labs_Coursera_V5/labs/Lab%20-%20Sign%20up%20for%20IBM%20Cloud%20-%20Create%20Db2%20service%20instance%20-%20Get%20started%20with%20the%20Db2%20console/instructional-labs.md.html?utm_medium=Exinfluencer&utm_source=Exinfluencer&utm_content=000026UJ&utm_term=10006555&utm_id=NA-SkillsNetwork-Channel-SkillsNetworkCoursesIBMDS0321ENSkillsNetwork26802033-2021-01-01\">link</a> for viewing  the new  Go to UI screen.\n\n*   Later click on **Data link(below SQL)**  in the Go to UI screen  and click on **Load Data** tab.\n\n*   Later browse for the downloaded spacex file.\n\n<img src=\"https://cf-courses-data.s3.us.cloud-object-storage.appdomain.cloud/IBM-DS0321EN-SkillsNetwork/labs/module_2/images/browsefile.png\" width=\"800\"/>\n\n*   Once done select the schema andload the file.\n\n <img src=\"https://cf-courses-data.s3.us.cloud-object-storage.appdomain.cloud/IBM-DS0321EN-SkillsNetwork/labs/module_2/images/spacexload3.png\" width=\"800\"/>\n"
        },
        {
            "metadata": {},
            "cell_type": "code",
            "source": "!pip install sqlalchemy==1.3.9\n!pip install ibm_db_sa",
            "execution_count": 1,
            "outputs": [
                {
                    "output_type": "stream",
                    "text": "/opt/conda/envs/Python-3.7-main/lib/python3.7/site-packages/secretstorage/dhcrypto.py:16: CryptographyDeprecationWarning: int_from_bytes is deprecated, use int.from_bytes instead\n  from cryptography.utils import int_from_bytes\n/opt/conda/envs/Python-3.7-main/lib/python3.7/site-packages/secretstorage/util.py:25: CryptographyDeprecationWarning: int_from_bytes is deprecated, use int.from_bytes instead\n  from cryptography.utils import int_from_bytes\nRequirement already satisfied: sqlalchemy==1.3.9 in /opt/conda/envs/Python-3.7-main/lib/python3.7/site-packages (1.3.9)\n/opt/conda/envs/Python-3.7-main/lib/python3.7/site-packages/secretstorage/dhcrypto.py:16: CryptographyDeprecationWarning: int_from_bytes is deprecated, use int.from_bytes instead\n  from cryptography.utils import int_from_bytes\n/opt/conda/envs/Python-3.7-main/lib/python3.7/site-packages/secretstorage/util.py:25: CryptographyDeprecationWarning: int_from_bytes is deprecated, use int.from_bytes instead\n  from cryptography.utils import int_from_bytes\nRequirement already satisfied: ibm_db_sa in /opt/conda/envs/Python-3.7-main/lib/python3.7/site-packages (0.3.5)\nRequirement already satisfied: sqlalchemy>=0.7.3 in /opt/conda/envs/Python-3.7-main/lib/python3.7/site-packages (from ibm_db_sa) (1.3.9)\nRequirement already satisfied: ibm-db>=2.0.0 in /opt/conda/envs/Python-3.7-main/lib/python3.7/site-packages (from ibm_db_sa) (3.0.2)\n",
                    "name": "stdout"
                }
            ]
        },
        {
            "metadata": {},
            "cell_type": "code",
            "source": "pip install ipython-sql",
            "execution_count": 2,
            "outputs": [
                {
                    "output_type": "stream",
                    "text": "/opt/conda/envs/Python-3.7-main/lib/python3.7/site-packages/secretstorage/dhcrypto.py:16: CryptographyDeprecationWarning: int_from_bytes is deprecated, use int.from_bytes instead\n  from cryptography.utils import int_from_bytes\n/opt/conda/envs/Python-3.7-main/lib/python3.7/site-packages/secretstorage/util.py:25: CryptographyDeprecationWarning: int_from_bytes is deprecated, use int.from_bytes instead\n  from cryptography.utils import int_from_bytes\nRequirement already satisfied: ipython-sql in /opt/conda/envs/Python-3.7-main/lib/python3.7/site-packages (0.4.0)\nRequirement already satisfied: sqlparse in /opt/conda/envs/Python-3.7-main/lib/python3.7/site-packages (from ipython-sql) (0.4.1)\nRequirement already satisfied: ipython>=1.0 in /opt/conda/envs/Python-3.7-main/lib/python3.7/site-packages (from ipython-sql) (7.15.0)\nRequirement already satisfied: sqlalchemy>=0.6.7 in /opt/conda/envs/Python-3.7-main/lib/python3.7/site-packages (from ipython-sql) (1.3.9)\nRequirement already satisfied: ipython-genutils>=0.1.0 in /opt/conda/envs/Python-3.7-main/lib/python3.7/site-packages (from ipython-sql) (0.2.0)\nRequirement already satisfied: prettytable<1 in /opt/conda/envs/Python-3.7-main/lib/python3.7/site-packages (from ipython-sql) (0.7.2)\nRequirement already satisfied: six in /opt/conda/envs/Python-3.7-main/lib/python3.7/site-packages (from ipython-sql) (1.15.0)\nRequirement already satisfied: backcall in /opt/conda/envs/Python-3.7-main/lib/python3.7/site-packages (from ipython>=1.0->ipython-sql) (0.2.0)\nRequirement already satisfied: jedi>=0.10 in /opt/conda/envs/Python-3.7-main/lib/python3.7/site-packages (from ipython>=1.0->ipython-sql) (0.17.1)\nRequirement already satisfied: pexpect; sys_platform != \"win32\" in /opt/conda/envs/Python-3.7-main/lib/python3.7/site-packages (from ipython>=1.0->ipython-sql) (4.8.0)\nRequirement already satisfied: setuptools>=18.5 in /opt/conda/envs/Python-3.7-main/lib/python3.7/site-packages (from ipython>=1.0->ipython-sql) (47.3.1.post20200622)\nRequirement already satisfied: prompt-toolkit!=3.0.0,!=3.0.1,<3.1.0,>=2.0.0 in /opt/conda/envs/Python-3.7-main/lib/python3.7/site-packages (from ipython>=1.0->ipython-sql) (3.0.5)\nRequirement already satisfied: pygments in /opt/conda/envs/Python-3.7-main/lib/python3.7/site-packages (from ipython>=1.0->ipython-sql) (2.6.1)\nRequirement already satisfied: traitlets>=4.2 in /opt/conda/envs/Python-3.7-main/lib/python3.7/site-packages (from ipython>=1.0->ipython-sql) (4.3.3)\nRequirement already satisfied: decorator in /opt/conda/envs/Python-3.7-main/lib/python3.7/site-packages (from ipython>=1.0->ipython-sql) (4.4.2)\nRequirement already satisfied: pickleshare in /opt/conda/envs/Python-3.7-main/lib/python3.7/site-packages (from ipython>=1.0->ipython-sql) (0.7.5)\nRequirement already satisfied: parso<0.8.0,>=0.7.0 in /opt/conda/envs/Python-3.7-main/lib/python3.7/site-packages (from jedi>=0.10->ipython>=1.0->ipython-sql) (0.7.0)\nRequirement already satisfied: ptyprocess>=0.5 in /opt/conda/envs/Python-3.7-main/lib/python3.7/site-packages (from pexpect; sys_platform != \"win32\"->ipython>=1.0->ipython-sql) (0.6.0)\nRequirement already satisfied: wcwidth in /opt/conda/envs/Python-3.7-main/lib/python3.7/site-packages (from prompt-toolkit!=3.0.0,!=3.0.1,<3.1.0,>=2.0.0->ipython>=1.0->ipython-sql) (0.2.4)\nNote: you may need to restart the kernel to use updated packages.\n",
                    "name": "stdout"
                }
            ]
        },
        {
            "metadata": {},
            "cell_type": "markdown",
            "source": "### Connect to the database\n\nLet us first load the SQL extension and establish a connection with the database\n"
        },
        {
            "metadata": {},
            "cell_type": "code",
            "source": "%load_ext sql",
            "execution_count": 3,
            "outputs": []
        },
        {
            "metadata": {},
            "cell_type": "markdown",
            "source": "**DB2 magic in case of old UI service credentials.**\n\nIn the next cell enter your db2 connection string. Recall you created Service Credentials for your Db2 instance before. From the **uri** field of your Db2 service credentials copy everything after db2:// (except the double quote at the end) and paste it in the cell below after ibm_db_sa://\n\n<img src =\"https://cf-courses-data.s3.us.cloud-object-storage.appdomain.cloud/IBMDeveloperSkillsNetwork-DB0201EN-SkillsNetwork/labs/FinalModule_edX/images/URI.jpg\">\n\nin the following format\n\n**%sql ibm_db_sa://my-username:my-password@my-hostname:my-port/my-db-name**\n\n**DB2 magic in case of new UI service credentials.**\n\n<img src =\"https://cf-courses-data.s3.us.cloud-object-storage.appdomain.cloud/IBM-DS0321EN-SkillsNetwork/labs/module_2/images/servicecredentials.png\" width=600>  \n\n*   Use the following format.\n\n*   Add security=SSL at the end\n\n**%sql ibm_db_sa://my-username:my-password@my-hostname:my-port/my-db-name?security=SSL**\n"
        },
        {
            "metadata": {},
            "cell_type": "code",
            "source": "%sql ibm_db_sa://nbw10902:CorT0Roz3nIS0Jt9@0c77d6f2-5da9-48a9-81f8-86b520b87518.bs2io90l08kqb1od8lcg.databases.appdomain.cloud:31198/bludb?security=SSL",
            "execution_count": 4,
            "outputs": []
        },
        {
            "metadata": {},
            "cell_type": "markdown",
            "source": "## Tasks\n\nNow write and execute SQL queries to solve the assignment tasks.\n\n### Task 1\n\n##### Display the names of the unique launch sites  in the space mission\n"
        },
        {
            "metadata": {},
            "cell_type": "code",
            "source": "from sqlalchemy import create_engine\nimport numpy as np",
            "execution_count": 5,
            "outputs": []
        },
        {
            "metadata": {},
            "cell_type": "code",
            "source": "launch_site=%sql select LAUNCH_SITE from NBW10902.SPACEXTBL;\nlaunch_site=list(launch_site)\nprint(np.unique(launch_site))",
            "execution_count": 6,
            "outputs": [
                {
                    "output_type": "stream",
                    "text": " * ibm_db_sa://nbw10902:***@0c77d6f2-5da9-48a9-81f8-86b520b87518.bs2io90l08kqb1od8lcg.databases.appdomain.cloud:31198/bludb\nDone.\n['CCAFS LC-40' 'CCAFS SLC-40' 'CCAFSSLC-40' 'KSC LC-39A' 'VAFB SLC-4E']\n",
                    "name": "stdout"
                }
            ]
        },
        {
            "metadata": {},
            "cell_type": "markdown",
            "source": "### Task 2\n\n##### Display 5 records where launch sites begin with the string 'KSC'\n"
        },
        {
            "metadata": {},
            "cell_type": "code",
            "source": "import pandas as pd\nrecords=%sql select * from NBW10902.SPACEXTBL WHERE LAUNCH_SITE like 'KSC%'\nrecords=pd.DataFrame(records)\nrecords.head()",
            "execution_count": 7,
            "outputs": [
                {
                    "output_type": "stream",
                    "text": " * ibm_db_sa://nbw10902:***@0c77d6f2-5da9-48a9-81f8-86b520b87518.bs2io90l08kqb1od8lcg.databases.appdomain.cloud:31198/bludb\nDone.\n",
                    "name": "stdout"
                },
                {
                    "output_type": "execute_result",
                    "execution_count": 7,
                    "data": {
                        "text/plain": "            0         1               2           3              4     5  \\\n0  2017-02-19  14:39:00   F9 FT B1031.1  KSC LC-39A  SpaceX CRS-10  2490   \n1  2017-03-16  06:00:00     F9 FT B1030  KSC LC-39A    EchoStar 23  5600   \n2  2017-03-30  22:27:00  F9 FT  B1021.2  KSC LC-39A         SES-10  5300   \n3  2017-05-01  11:15:00   F9 FT B1032.1  KSC LC-39A        NROL-76  5300   \n4  2017-05-15  23:21:00     F9 FT B1034  KSC LC-39A  Inmarsat-5 F4  6070   \n\n           6           7        8                     9  \n0  LEO (ISS)  NASA (CRS)  Success  Success (ground pad)  \n1        GTO    EchoStar  Success            No attempt  \n2        GTO         SES  Success  Success (drone ship)  \n3        LEO         NRO  Success  Success (ground pad)  \n4        GTO    Inmarsat  Success            No attempt  ",
                        "text/html": "<div>\n<style scoped>\n    .dataframe tbody tr th:only-of-type {\n        vertical-align: middle;\n    }\n\n    .dataframe tbody tr th {\n        vertical-align: top;\n    }\n\n    .dataframe thead th {\n        text-align: right;\n    }\n</style>\n<table border=\"1\" class=\"dataframe\">\n  <thead>\n    <tr style=\"text-align: right;\">\n      <th></th>\n      <th>0</th>\n      <th>1</th>\n      <th>2</th>\n      <th>3</th>\n      <th>4</th>\n      <th>5</th>\n      <th>6</th>\n      <th>7</th>\n      <th>8</th>\n      <th>9</th>\n    </tr>\n  </thead>\n  <tbody>\n    <tr>\n      <th>0</th>\n      <td>2017-02-19</td>\n      <td>14:39:00</td>\n      <td>F9 FT B1031.1</td>\n      <td>KSC LC-39A</td>\n      <td>SpaceX CRS-10</td>\n      <td>2490</td>\n      <td>LEO (ISS)</td>\n      <td>NASA (CRS)</td>\n      <td>Success</td>\n      <td>Success (ground pad)</td>\n    </tr>\n    <tr>\n      <th>1</th>\n      <td>2017-03-16</td>\n      <td>06:00:00</td>\n      <td>F9 FT B1030</td>\n      <td>KSC LC-39A</td>\n      <td>EchoStar 23</td>\n      <td>5600</td>\n      <td>GTO</td>\n      <td>EchoStar</td>\n      <td>Success</td>\n      <td>No attempt</td>\n    </tr>\n    <tr>\n      <th>2</th>\n      <td>2017-03-30</td>\n      <td>22:27:00</td>\n      <td>F9 FT  B1021.2</td>\n      <td>KSC LC-39A</td>\n      <td>SES-10</td>\n      <td>5300</td>\n      <td>GTO</td>\n      <td>SES</td>\n      <td>Success</td>\n      <td>Success (drone ship)</td>\n    </tr>\n    <tr>\n      <th>3</th>\n      <td>2017-05-01</td>\n      <td>11:15:00</td>\n      <td>F9 FT B1032.1</td>\n      <td>KSC LC-39A</td>\n      <td>NROL-76</td>\n      <td>5300</td>\n      <td>LEO</td>\n      <td>NRO</td>\n      <td>Success</td>\n      <td>Success (ground pad)</td>\n    </tr>\n    <tr>\n      <th>4</th>\n      <td>2017-05-15</td>\n      <td>23:21:00</td>\n      <td>F9 FT B1034</td>\n      <td>KSC LC-39A</td>\n      <td>Inmarsat-5 F4</td>\n      <td>6070</td>\n      <td>GTO</td>\n      <td>Inmarsat</td>\n      <td>Success</td>\n      <td>No attempt</td>\n    </tr>\n  </tbody>\n</table>\n</div>"
                    },
                    "metadata": {}
                }
            ]
        },
        {
            "metadata": {},
            "cell_type": "markdown",
            "source": "### Task 3\n\n##### Display the total payload mass carried by boosters launched by NASA (CRS)\n"
        },
        {
            "metadata": {},
            "cell_type": "code",
            "source": "nasa_boosters=%sql select * from NBW10902.SPACEXTBL WHERE CUSTOMER='NASA (CRS)'\nnasa_boosters=pd.DataFrame(nasa_boosters)\nprint('The total payload mass carried by boosters launched by NASA (CRS) was: ',nasa_boosters[5].sum())",
            "execution_count": 8,
            "outputs": [
                {
                    "output_type": "stream",
                    "text": " * ibm_db_sa://nbw10902:***@0c77d6f2-5da9-48a9-81f8-86b520b87518.bs2io90l08kqb1od8lcg.databases.appdomain.cloud:31198/bludb\nDone.\nThe total payload mass carried by boosters launched by NASA (CRS) was:  45596\n",
                    "name": "stdout"
                }
            ]
        },
        {
            "metadata": {},
            "cell_type": "markdown",
            "source": "### Task 4\n\n##### Display average payload mass carried by booster version F9 v1.1\n"
        },
        {
            "metadata": {},
            "cell_type": "code",
            "source": "F9_booster=%sql select * from NBW10902.SPACEXTBL WHERE BOOSTER_VERSION='F9 v1.1'\nF9_booster=pd.DataFrame(F9_booster)\nprint('The total payload mass carried by booster version F9 v1.1 was: ',F9_booster[5].mean())",
            "execution_count": 9,
            "outputs": [
                {
                    "output_type": "stream",
                    "text": " * ibm_db_sa://nbw10902:***@0c77d6f2-5da9-48a9-81f8-86b520b87518.bs2io90l08kqb1od8lcg.databases.appdomain.cloud:31198/bludb\nDone.\nThe total payload mass carried by booster version F9 v1.1 was:  2928.4\n",
                    "name": "stdout"
                }
            ]
        },
        {
            "metadata": {},
            "cell_type": "markdown",
            "source": "### Task 5\n\n##### List the date where the succesful landing outcome in drone ship was acheived.\n\n*Hint:Use min function*\n"
        },
        {
            "metadata": {},
            "cell_type": "code",
            "source": "succesful_landing=%sql select * from NBW10902.SPACEXTBL WHERE Landing__Outcome='Success (drone ship)'\nsuccesful_landing=pd.DataFrame(succesful_landing)\nsuccesful_landing",
            "execution_count": 16,
            "outputs": [
                {
                    "output_type": "stream",
                    "text": " * ibm_db_sa://nbw10902:***@0c77d6f2-5da9-48a9-81f8-86b520b87518.bs2io90l08kqb1od8lcg.databases.appdomain.cloud:31198/bludb\nDone.\n",
                    "name": "stdout"
                },
                {
                    "output_type": "execute_result",
                    "execution_count": 16,
                    "data": {
                        "text/plain": "             0         1               2             3  \\\n0   2016-04-08  20:43:00   F9 FT B1021.1   CCAFS LC-40   \n1   2016-05-06  05:21:00     F9 FT B1022   CCAFS LC-40   \n2   2016-05-27  21:39:00   F9 FT B1023.1   CCAFS LC-40   \n3   2016-08-14  05:26:00     F9 FT B1026   CCAFS LC-40   \n4   2017-01-14  17:54:00   F9 FT B1029.1   VAFB SLC-4E   \n5   2017-03-30  22:27:00  F9 FT  B1021.2    KSC LC-39A   \n6   2017-06-23  19:10:00  F9 FT  B1029.2    KSC LC-39A   \n7   2017-06-25  20:25:00   F9 FT B1036.1   VAFB SLC-4E   \n8   2017-08-24  18:51:00   F9 FT B1038.1   VAFB SLC-4E   \n9   2017-10-09  12:37:00   F9 B4 B1041.1   VAFB SLC-4E   \n10  2017-10-11  22:53:00  F9 FT  B1031.2    KSC LC-39A   \n11  2017-10-30  19:34:00   F9 B4 B1042.1    KSC LC-39A   \n12  2018-04-18  22:51:00   F9 B4 B1045.1  CCAFS SLC-40   \n13  2018-05-11  20:14:00  F9 B5  B1046.1    KSC LC-39A   \n\n                                               4     5          6  \\\n0                                   SpaceX CRS-8  3136  LEO (ISS)   \n1                                       JCSAT-14  4696        GTO   \n2                                      Thaicom 8  3100        GTO   \n3                                       JCSAT-16  4600        GTO   \n4                                 Iridium NEXT 1  9600  Polar LEO   \n5                                         SES-10  5300        GTO   \n6                                  BulgariaSat-1  3669        GTO   \n7                                 Iridium NEXT 2  9600        LEO   \n8                                     Formosat-5   475        SSO   \n9                                 Iridium NEXT 3  9600  Polar LEO   \n10                         SES-11 / EchoStar 105  5200        GTO   \n11                                   Koreasat 5A  3500        GTO   \n12  Transiting Exoplanet Survey Satellite (TESS)   362        HEO   \n13                                 Bangabandhu-1  3600        GTO   \n\n                         7        8                     9  \n0               NASA (CRS)  Success  Success (drone ship)  \n1   SKY Perfect JSAT Group  Success  Success (drone ship)  \n2                  Thaicom  Success  Success (drone ship)  \n3   SKY Perfect JSAT Group  Success  Success (drone ship)  \n4   Iridium Communications  Success  Success (drone ship)  \n5                      SES  Success  Success (drone ship)  \n6                Bulsatcom  Success  Success (drone ship)  \n7   Iridium Communications  Success  Success (drone ship)  \n8                     NSPO  Success  Success (drone ship)  \n9   Iridium Communications  Success  Success (drone ship)  \n10            SES EchoStar  Success  Success (drone ship)  \n11          KT Corporation  Success  Success (drone ship)  \n12              NASA (LSP)  Success  Success (drone ship)  \n13      Thales-Alenia/BTRC  Success  Success (drone ship)  ",
                        "text/html": "<div>\n<style scoped>\n    .dataframe tbody tr th:only-of-type {\n        vertical-align: middle;\n    }\n\n    .dataframe tbody tr th {\n        vertical-align: top;\n    }\n\n    .dataframe thead th {\n        text-align: right;\n    }\n</style>\n<table border=\"1\" class=\"dataframe\">\n  <thead>\n    <tr style=\"text-align: right;\">\n      <th></th>\n      <th>0</th>\n      <th>1</th>\n      <th>2</th>\n      <th>3</th>\n      <th>4</th>\n      <th>5</th>\n      <th>6</th>\n      <th>7</th>\n      <th>8</th>\n      <th>9</th>\n    </tr>\n  </thead>\n  <tbody>\n    <tr>\n      <th>0</th>\n      <td>2016-04-08</td>\n      <td>20:43:00</td>\n      <td>F9 FT B1021.1</td>\n      <td>CCAFS LC-40</td>\n      <td>SpaceX CRS-8</td>\n      <td>3136</td>\n      <td>LEO (ISS)</td>\n      <td>NASA (CRS)</td>\n      <td>Success</td>\n      <td>Success (drone ship)</td>\n    </tr>\n    <tr>\n      <th>1</th>\n      <td>2016-05-06</td>\n      <td>05:21:00</td>\n      <td>F9 FT B1022</td>\n      <td>CCAFS LC-40</td>\n      <td>JCSAT-14</td>\n      <td>4696</td>\n      <td>GTO</td>\n      <td>SKY Perfect JSAT Group</td>\n      <td>Success</td>\n      <td>Success (drone ship)</td>\n    </tr>\n    <tr>\n      <th>2</th>\n      <td>2016-05-27</td>\n      <td>21:39:00</td>\n      <td>F9 FT B1023.1</td>\n      <td>CCAFS LC-40</td>\n      <td>Thaicom 8</td>\n      <td>3100</td>\n      <td>GTO</td>\n      <td>Thaicom</td>\n      <td>Success</td>\n      <td>Success (drone ship)</td>\n    </tr>\n    <tr>\n      <th>3</th>\n      <td>2016-08-14</td>\n      <td>05:26:00</td>\n      <td>F9 FT B1026</td>\n      <td>CCAFS LC-40</td>\n      <td>JCSAT-16</td>\n      <td>4600</td>\n      <td>GTO</td>\n      <td>SKY Perfect JSAT Group</td>\n      <td>Success</td>\n      <td>Success (drone ship)</td>\n    </tr>\n    <tr>\n      <th>4</th>\n      <td>2017-01-14</td>\n      <td>17:54:00</td>\n      <td>F9 FT B1029.1</td>\n      <td>VAFB SLC-4E</td>\n      <td>Iridium NEXT 1</td>\n      <td>9600</td>\n      <td>Polar LEO</td>\n      <td>Iridium Communications</td>\n      <td>Success</td>\n      <td>Success (drone ship)</td>\n    </tr>\n    <tr>\n      <th>5</th>\n      <td>2017-03-30</td>\n      <td>22:27:00</td>\n      <td>F9 FT  B1021.2</td>\n      <td>KSC LC-39A</td>\n      <td>SES-10</td>\n      <td>5300</td>\n      <td>GTO</td>\n      <td>SES</td>\n      <td>Success</td>\n      <td>Success (drone ship)</td>\n    </tr>\n    <tr>\n      <th>6</th>\n      <td>2017-06-23</td>\n      <td>19:10:00</td>\n      <td>F9 FT  B1029.2</td>\n      <td>KSC LC-39A</td>\n      <td>BulgariaSat-1</td>\n      <td>3669</td>\n      <td>GTO</td>\n      <td>Bulsatcom</td>\n      <td>Success</td>\n      <td>Success (drone ship)</td>\n    </tr>\n    <tr>\n      <th>7</th>\n      <td>2017-06-25</td>\n      <td>20:25:00</td>\n      <td>F9 FT B1036.1</td>\n      <td>VAFB SLC-4E</td>\n      <td>Iridium NEXT 2</td>\n      <td>9600</td>\n      <td>LEO</td>\n      <td>Iridium Communications</td>\n      <td>Success</td>\n      <td>Success (drone ship)</td>\n    </tr>\n    <tr>\n      <th>8</th>\n      <td>2017-08-24</td>\n      <td>18:51:00</td>\n      <td>F9 FT B1038.1</td>\n      <td>VAFB SLC-4E</td>\n      <td>Formosat-5</td>\n      <td>475</td>\n      <td>SSO</td>\n      <td>NSPO</td>\n      <td>Success</td>\n      <td>Success (drone ship)</td>\n    </tr>\n    <tr>\n      <th>9</th>\n      <td>2017-10-09</td>\n      <td>12:37:00</td>\n      <td>F9 B4 B1041.1</td>\n      <td>VAFB SLC-4E</td>\n      <td>Iridium NEXT 3</td>\n      <td>9600</td>\n      <td>Polar LEO</td>\n      <td>Iridium Communications</td>\n      <td>Success</td>\n      <td>Success (drone ship)</td>\n    </tr>\n    <tr>\n      <th>10</th>\n      <td>2017-10-11</td>\n      <td>22:53:00</td>\n      <td>F9 FT  B1031.2</td>\n      <td>KSC LC-39A</td>\n      <td>SES-11 / EchoStar 105</td>\n      <td>5200</td>\n      <td>GTO</td>\n      <td>SES EchoStar</td>\n      <td>Success</td>\n      <td>Success (drone ship)</td>\n    </tr>\n    <tr>\n      <th>11</th>\n      <td>2017-10-30</td>\n      <td>19:34:00</td>\n      <td>F9 B4 B1042.1</td>\n      <td>KSC LC-39A</td>\n      <td>Koreasat 5A</td>\n      <td>3500</td>\n      <td>GTO</td>\n      <td>KT Corporation</td>\n      <td>Success</td>\n      <td>Success (drone ship)</td>\n    </tr>\n    <tr>\n      <th>12</th>\n      <td>2018-04-18</td>\n      <td>22:51:00</td>\n      <td>F9 B4 B1045.1</td>\n      <td>CCAFS SLC-40</td>\n      <td>Transiting Exoplanet Survey Satellite (TESS)</td>\n      <td>362</td>\n      <td>HEO</td>\n      <td>NASA (LSP)</td>\n      <td>Success</td>\n      <td>Success (drone ship)</td>\n    </tr>\n    <tr>\n      <th>13</th>\n      <td>2018-05-11</td>\n      <td>20:14:00</td>\n      <td>F9 B5  B1046.1</td>\n      <td>KSC LC-39A</td>\n      <td>Bangabandhu-1</td>\n      <td>3600</td>\n      <td>GTO</td>\n      <td>Thales-Alenia/BTRC</td>\n      <td>Success</td>\n      <td>Success (drone ship)</td>\n    </tr>\n  </tbody>\n</table>\n</div>"
                    },
                    "metadata": {}
                }
            ]
        },
        {
            "metadata": {},
            "cell_type": "markdown",
            "source": "### Task 6\n\n##### List the names of the boosters which have success in ground pad  and have payload mass greater than 4000 but less than 6000\n"
        },
        {
            "metadata": {},
            "cell_type": "code",
            "source": "booster1=%sql select BOOSTER_VERSION from NBW10902.SPACEXTBL WHERE Landing__Outcome like 'Success%'  and PAYLOAD_MASS__KG_>4000 and PAYLOAD_MASS__KG_<6000\nbooster1=list(booster1)\nbooster1",
            "execution_count": 20,
            "outputs": [
                {
                    "output_type": "stream",
                    "text": " * ibm_db_sa://nbw10902:***@0c77d6f2-5da9-48a9-81f8-86b520b87518.bs2io90l08kqb1od8lcg.databases.appdomain.cloud:31198/bludb\nDone.\n",
                    "name": "stdout"
                },
                {
                    "output_type": "execute_result",
                    "execution_count": 20,
                    "data": {
                        "text/plain": "[('F9 FT B1022',),\n ('F9 FT B1026',),\n ('F9 FT  B1021.2',),\n ('F9 FT B1032.1',),\n ('F9 B4 B1040.1',),\n ('F9 FT  B1031.2',),\n ('F9 B4 B1043.1',),\n ('F9 B5 B1046.2',),\n ('F9 B5 B1047.2',),\n ('F9 B5 B1048.3',),\n ('F9 B5 B1051.2',),\n ('F9 B5B1060.1',),\n ('F9 B5 B1058.2',),\n ('F9 B5B1062.1',)]"
                    },
                    "metadata": {}
                }
            ]
        },
        {
            "metadata": {},
            "cell_type": "markdown",
            "source": "### Task 7\n\n##### List the total number of successful and failure mission outcomes\n"
        },
        {
            "metadata": {},
            "cell_type": "code",
            "source": "mission_out=%sql select MISSION_OUTCOME from NBW10902.SPACEXTBL\nmission_out=pd.DataFrame(mission_out)\nmission_out[0].value_counts()",
            "execution_count": 28,
            "outputs": [
                {
                    "output_type": "stream",
                    "text": " * ibm_db_sa://nbw10902:***@0c77d6f2-5da9-48a9-81f8-86b520b87518.bs2io90l08kqb1od8lcg.databases.appdomain.cloud:31198/bludb\nDone.\n",
                    "name": "stdout"
                },
                {
                    "output_type": "execute_result",
                    "execution_count": 28,
                    "data": {
                        "text/plain": "Success                             99\nFailure (in flight)                  1\nSuccess (payload status unclear)     1\nName: 0, dtype: int64"
                    },
                    "metadata": {}
                }
            ]
        },
        {
            "metadata": {},
            "cell_type": "markdown",
            "source": "### Task 8\n\n##### List the   names of the booster_versions which have carried the maximum payload mass. Use a subquery\n"
        },
        {
            "metadata": {},
            "cell_type": "code",
            "source": "booster_maxmass=%sql select BOOSTER_VERSION,PAYLOAD_MASS__KG_ from NBW10902.SPACEXTBL where PAYLOAD_MASS__KG_=(select MAX(PAYLOAD_MASS__KG_) from NBW10902.SPACEXTBL)\nbooster_maxmass=list(booster_maxmass)\nbooster_maxmass\n",
            "execution_count": 31,
            "outputs": [
                {
                    "output_type": "stream",
                    "text": " * ibm_db_sa://nbw10902:***@0c77d6f2-5da9-48a9-81f8-86b520b87518.bs2io90l08kqb1od8lcg.databases.appdomain.cloud:31198/bludb\nDone.\n",
                    "name": "stdout"
                },
                {
                    "output_type": "execute_result",
                    "execution_count": 31,
                    "data": {
                        "text/plain": "[('F9 B5 B1048.4', 15600),\n ('F9 B5 B1049.4', 15600),\n ('F9 B5 B1051.3', 15600),\n ('F9 B5 B1056.4', 15600),\n ('F9 B5 B1048.5', 15600),\n ('F9 B5 B1051.4', 15600),\n ('F9 B5 B1049.5', 15600),\n ('F9 B5 B1060.2', 15600),\n ('F9 B5 B1058.3', 15600),\n ('F9 B5 B1051.6', 15600),\n ('F9 B5 B1060.3', 15600),\n ('F9 B5 B1049.7', 15600)]"
                    },
                    "metadata": {}
                }
            ]
        },
        {
            "metadata": {},
            "cell_type": "markdown",
            "source": "### Task 9\n\n##### List the records which will display the month names, succesful landing_outcomes in ground pad ,booster versions, launch_site for the months in year 2017\n"
        },
        {
            "metadata": {},
            "cell_type": "code",
            "source": "booster_2017=%sql select DATE,LANDING__OUTCOME,BOOSTER_VERSION,LAUNCH_SITE from NBW10902.SPACEXTBL where DATE like ('2017%') and LANDING__OUTCOME like ('Success%')\nbooster_2017=list(booster_2017)\nbooster_2017",
            "execution_count": 38,
            "outputs": [
                {
                    "output_type": "stream",
                    "text": " * ibm_db_sa://nbw10902:***@0c77d6f2-5da9-48a9-81f8-86b520b87518.bs2io90l08kqb1od8lcg.databases.appdomain.cloud:31198/bludb\nDone.\n",
                    "name": "stdout"
                },
                {
                    "output_type": "execute_result",
                    "execution_count": 38,
                    "data": {
                        "text/plain": "[(datetime.date(2017, 1, 14), 'Success (drone ship)', 'F9 FT B1029.1', 'VAFB SLC-4E'),\n (datetime.date(2017, 2, 19), 'Success (ground pad)', 'F9 FT B1031.1', 'KSC LC-39A'),\n (datetime.date(2017, 3, 30), 'Success (drone ship)', 'F9 FT  B1021.2', 'KSC LC-39A'),\n (datetime.date(2017, 5, 1), 'Success (ground pad)', 'F9 FT B1032.1', 'KSC LC-39A'),\n (datetime.date(2017, 6, 3), 'Success (ground pad)', 'F9 FT B1035.1', 'KSC LC-39A'),\n (datetime.date(2017, 6, 23), 'Success (drone ship)', 'F9 FT  B1029.2', 'KSC LC-39A'),\n (datetime.date(2017, 6, 25), 'Success (drone ship)', 'F9 FT B1036.1', 'VAFB SLC-4E'),\n (datetime.date(2017, 8, 14), 'Success (ground pad)', 'F9 B4 B1039.1', 'KSC LC-39A'),\n (datetime.date(2017, 8, 24), 'Success (drone ship)', 'F9 FT B1038.1', 'VAFB SLC-4E'),\n (datetime.date(2017, 9, 7), 'Success (ground pad)', 'F9 B4 B1040.1', 'KSC LC-39A'),\n (datetime.date(2017, 10, 9), 'Success (drone ship)', 'F9 B4 B1041.1', 'VAFB SLC-4E'),\n (datetime.date(2017, 10, 11), 'Success (drone ship)', 'F9 FT  B1031.2', 'KSC LC-39A'),\n (datetime.date(2017, 10, 30), 'Success (drone ship)', 'F9 B4 B1042.1', 'KSC LC-39A'),\n (datetime.date(2017, 12, 15), 'Success (ground pad)', 'F9 FT  B1035.2', 'CCAFS SLC-40')]"
                    },
                    "metadata": {}
                }
            ]
        },
        {
            "metadata": {},
            "cell_type": "markdown",
            "source": "### Task 10\n\n##### Rank the  count of  successful landing_outcomes between the date 2010-06-04 and 2017-03-20 in descending order.\n"
        },
        {
            "metadata": {},
            "cell_type": "code",
            "source": "successful_landing=%sql select * from NBW10902.SPACEXTBL where LANDING__OUTCOME like ('Success%') and DATE>('2010-06-04') AND DATE<('2017-03-20')\nsuccessful_landing=pd.DataFrame(successful_landing)\nsuccessful_landing.sort_values(0,ascending=False,inplace=True)\nsuccessful_landing\n",
            "execution_count": 54,
            "outputs": [
                {
                    "output_type": "stream",
                    "text": " * ibm_db_sa://nbw10902:***@0c77d6f2-5da9-48a9-81f8-86b520b87518.bs2io90l08kqb1od8lcg.databases.appdomain.cloud:31198/bludb\nDone.\n",
                    "name": "stdout"
                },
                {
                    "output_type": "execute_result",
                    "execution_count": 54,
                    "data": {
                        "text/plain": "            0         1              2            3  \\\n7  2017-02-19  14:39:00  F9 FT B1031.1   KSC LC-39A   \n6  2017-01-14  17:54:00  F9 FT B1029.1  VAFB SLC-4E   \n5  2016-08-14  05:26:00    F9 FT B1026  CCAFS LC-40   \n4  2016-07-18  04:45:00  F9 FT B1025.1  CCAFS LC-40   \n3  2016-05-27  21:39:00  F9 FT B1023.1  CCAFS LC-40   \n2  2016-05-06  05:21:00    F9 FT B1022  CCAFS LC-40   \n1  2016-04-08  20:43:00  F9 FT B1021.1  CCAFS LC-40   \n0  2015-12-22  01:29:00    F9 FT B1019  CCAFS LC-40   \n\n                                          4     5          6  \\\n7                             SpaceX CRS-10  2490  LEO (ISS)   \n6                            Iridium NEXT 1  9600  Polar LEO   \n5                                  JCSAT-16  4600        GTO   \n4                              SpaceX CRS-9  2257  LEO (ISS)   \n3                                 Thaicom 8  3100        GTO   \n2                                  JCSAT-14  4696        GTO   \n1                              SpaceX CRS-8  3136  LEO (ISS)   \n0  OG2 Mission 2  11 Orbcomm-OG2 satellites  2034        LEO   \n\n                        7        8                     9  \n7              NASA (CRS)  Success  Success (ground pad)  \n6  Iridium Communications  Success  Success (drone ship)  \n5  SKY Perfect JSAT Group  Success  Success (drone ship)  \n4              NASA (CRS)  Success  Success (ground pad)  \n3                 Thaicom  Success  Success (drone ship)  \n2  SKY Perfect JSAT Group  Success  Success (drone ship)  \n1              NASA (CRS)  Success  Success (drone ship)  \n0                 Orbcomm  Success  Success (ground pad)  ",
                        "text/html": "<div>\n<style scoped>\n    .dataframe tbody tr th:only-of-type {\n        vertical-align: middle;\n    }\n\n    .dataframe tbody tr th {\n        vertical-align: top;\n    }\n\n    .dataframe thead th {\n        text-align: right;\n    }\n</style>\n<table border=\"1\" class=\"dataframe\">\n  <thead>\n    <tr style=\"text-align: right;\">\n      <th></th>\n      <th>0</th>\n      <th>1</th>\n      <th>2</th>\n      <th>3</th>\n      <th>4</th>\n      <th>5</th>\n      <th>6</th>\n      <th>7</th>\n      <th>8</th>\n      <th>9</th>\n    </tr>\n  </thead>\n  <tbody>\n    <tr>\n      <th>7</th>\n      <td>2017-02-19</td>\n      <td>14:39:00</td>\n      <td>F9 FT B1031.1</td>\n      <td>KSC LC-39A</td>\n      <td>SpaceX CRS-10</td>\n      <td>2490</td>\n      <td>LEO (ISS)</td>\n      <td>NASA (CRS)</td>\n      <td>Success</td>\n      <td>Success (ground pad)</td>\n    </tr>\n    <tr>\n      <th>6</th>\n      <td>2017-01-14</td>\n      <td>17:54:00</td>\n      <td>F9 FT B1029.1</td>\n      <td>VAFB SLC-4E</td>\n      <td>Iridium NEXT 1</td>\n      <td>9600</td>\n      <td>Polar LEO</td>\n      <td>Iridium Communications</td>\n      <td>Success</td>\n      <td>Success (drone ship)</td>\n    </tr>\n    <tr>\n      <th>5</th>\n      <td>2016-08-14</td>\n      <td>05:26:00</td>\n      <td>F9 FT B1026</td>\n      <td>CCAFS LC-40</td>\n      <td>JCSAT-16</td>\n      <td>4600</td>\n      <td>GTO</td>\n      <td>SKY Perfect JSAT Group</td>\n      <td>Success</td>\n      <td>Success (drone ship)</td>\n    </tr>\n    <tr>\n      <th>4</th>\n      <td>2016-07-18</td>\n      <td>04:45:00</td>\n      <td>F9 FT B1025.1</td>\n      <td>CCAFS LC-40</td>\n      <td>SpaceX CRS-9</td>\n      <td>2257</td>\n      <td>LEO (ISS)</td>\n      <td>NASA (CRS)</td>\n      <td>Success</td>\n      <td>Success (ground pad)</td>\n    </tr>\n    <tr>\n      <th>3</th>\n      <td>2016-05-27</td>\n      <td>21:39:00</td>\n      <td>F9 FT B1023.1</td>\n      <td>CCAFS LC-40</td>\n      <td>Thaicom 8</td>\n      <td>3100</td>\n      <td>GTO</td>\n      <td>Thaicom</td>\n      <td>Success</td>\n      <td>Success (drone ship)</td>\n    </tr>\n    <tr>\n      <th>2</th>\n      <td>2016-05-06</td>\n      <td>05:21:00</td>\n      <td>F9 FT B1022</td>\n      <td>CCAFS LC-40</td>\n      <td>JCSAT-14</td>\n      <td>4696</td>\n      <td>GTO</td>\n      <td>SKY Perfect JSAT Group</td>\n      <td>Success</td>\n      <td>Success (drone ship)</td>\n    </tr>\n    <tr>\n      <th>1</th>\n      <td>2016-04-08</td>\n      <td>20:43:00</td>\n      <td>F9 FT B1021.1</td>\n      <td>CCAFS LC-40</td>\n      <td>SpaceX CRS-8</td>\n      <td>3136</td>\n      <td>LEO (ISS)</td>\n      <td>NASA (CRS)</td>\n      <td>Success</td>\n      <td>Success (drone ship)</td>\n    </tr>\n    <tr>\n      <th>0</th>\n      <td>2015-12-22</td>\n      <td>01:29:00</td>\n      <td>F9 FT B1019</td>\n      <td>CCAFS LC-40</td>\n      <td>OG2 Mission 2  11 Orbcomm-OG2 satellites</td>\n      <td>2034</td>\n      <td>LEO</td>\n      <td>Orbcomm</td>\n      <td>Success</td>\n      <td>Success (ground pad)</td>\n    </tr>\n  </tbody>\n</table>\n</div>"
                    },
                    "metadata": {}
                }
            ]
        },
        {
            "metadata": {},
            "cell_type": "code",
            "source": "%sql select max(DATE) from NBW10902.SPACEXTBL",
            "execution_count": 62,
            "outputs": [
                {
                    "output_type": "stream",
                    "text": " * ibm_db_sa://nbw10902:***@0c77d6f2-5da9-48a9-81f8-86b520b87518.bs2io90l08kqb1od8lcg.databases.appdomain.cloud:31198/bludb\nDone.\n",
                    "name": "stdout"
                },
                {
                    "output_type": "execute_result",
                    "execution_count": 62,
                    "data": {
                        "text/plain": "[(datetime.date(2020, 12, 6),)]",
                        "text/html": "<table>\n    <tr>\n        <th>1</th>\n    </tr>\n    <tr>\n        <td>2020-12-06</td>\n    </tr>\n</table>"
                    },
                    "metadata": {}
                }
            ]
        },
        {
            "metadata": {},
            "cell_type": "markdown",
            "source": "### Reference Links\n\n*   <a href =\"https://cf-courses-data.s3.us.cloud-object-storage.appdomain.cloud/IBMDeveloperSkillsNetwork-DB0201EN-SkillsNetwork/labs/Module%203/LAB-String_Patterns_Sorting_Grouping.md.html?utm_medium=Exinfluencer&utm_source=Exinfluencer&utm_content=000026UJ&utm_term=10006555&utm_id=NA-SkillsNetwork-Channel-SkillsNetworkCoursesIBMDS0321ENSkillsNetwork26802033-2021-01-01\">Hands-on Lab : String Patterns, Sorting and Grouping</a>\n\n*   <a  href=\"https://cf-courses-data.s3.us.cloud-object-storage.appdomain.cloud/IBMDeveloperSkillsNetwork-DB0201EN-SkillsNetwork/labs/Labs_Coursera_V5/labs/Lab%20-%20Built-in%20functions%20/Hands-on_Lab__Built-in_Functions.md.html?utm_medium=Exinfluencer&utm_source=Exinfluencer&utm_content=000026UJ&utm_term=10006555&utm_id=NA-SkillsNetwork-Channel-SkillsNetworkCoursesIBMDS0321ENSkillsNetwork26802033-2021-01-01\">Hands-on Lab: Built-in functions</a>\n\n*   <a  href=\"https://cf-courses-data.s3.us.cloud-object-storage.appdomain.cloud/IBMDeveloperSkillsNetwork-DB0201EN-SkillsNetwork/labs/Labs_Coursera_V5/labs/Lab%20-%20Sub-queries%20and%20Nested%20SELECTs%20/instructional-labs.md.html?utm_medium=Exinfluencer&utm_source=Exinfluencer&utm_content=000026UJ&utm_term=10006555&utm_id=NA-SkillsNetwork-Channel-SkillsNetworkCoursesIBMDS0321ENSkillsNetwork26802033-2021-01-01\">Hands-on Lab : Sub-queries and Nested SELECT Statements</a>\n\n*   <a href=\"https://cf-courses-data.s3.us.cloud-object-storage.appdomain.cloud/IBMDeveloperSkillsNetwork-DB0201EN-SkillsNetwork/labs/Module%205/DB0201EN-Week3-1-3-SQLmagic.ipynb?utm_medium=Exinfluencer&utm_source=Exinfluencer&utm_content=000026UJ&utm_term=10006555&utm_id=NA-SkillsNetwork-Channel-SkillsNetworkCoursesIBMDS0321ENSkillsNetwork26802033-2021-01-01\">Hands-on Tutorial: Accessing Databases with SQL magic</a>\n\n*   <a href= \"https://cf-courses-data.s3.us.cloud-object-storage.appdomain.cloud/IBMDeveloperSkillsNetwork-DB0201EN-SkillsNetwork/labs/Module%205/DB0201EN-Week3-1-4-Analyzing.ipynb?utm_medium=Exinfluencer&utm_source=Exinfluencer&utm_content=000026UJ&utm_term=10006555&utm_id=NA-SkillsNetwork-Channel-SkillsNetworkCoursesIBMDS0321ENSkillsNetwork26802033-2021-01-01\">Hands-on Lab: Analyzing a real World Data Set</a>\n"
        },
        {
            "metadata": {},
            "cell_type": "markdown",
            "source": "## Author(s)\n\n<h4> Lakshmi Holla </h4>\n"
        },
        {
            "metadata": {},
            "cell_type": "markdown",
            "source": "## Other Contributors\n\n<h4> Rav Ahuja </h4>\n"
        },
        {
            "metadata": {},
            "cell_type": "markdown",
            "source": "## Change log\n\n| Date | Version | Changed by | Change Description |\n|------|--------|--------|---------|\n| 2021-07-09 | 0.2 |Lakshmi Holla | Changes made in magic sql|\n| 2021-05-20 | 0.1 |Lakshmi Holla | Created Initial Version |\n"
        },
        {
            "metadata": {},
            "cell_type": "markdown",
            "source": "## <h3 align=\"center\"> \u00a9 IBM Corporation 2021. All rights reserved. <h3/>\n"
        }
    ],
    "metadata": {
        "kernelspec": {
            "name": "python3",
            "display_name": "Python 3.7",
            "language": "python"
        },
        "language_info": {
            "name": "python",
            "version": "3.7.10",
            "mimetype": "text/x-python",
            "codemirror_mode": {
                "name": "ipython",
                "version": 3
            },
            "pygments_lexer": "ipython3",
            "nbconvert_exporter": "python",
            "file_extension": ".py"
        }
    },
    "nbformat": 4,
    "nbformat_minor": 4
}